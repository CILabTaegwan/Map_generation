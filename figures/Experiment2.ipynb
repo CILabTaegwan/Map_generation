{
 "cells": [
  {
   "cell_type": "markdown",
   "id": "f760b3db",
   "metadata": {},
   "source": [
    "# Load Data"
   ]
  },
  {
   "cell_type": "code",
   "execution_count": 1,
   "id": "705e6a18",
   "metadata": {},
   "outputs": [],
   "source": [
    "from glob import glob\n",
    "import os, json\n",
    "import pandas as pd\n",
    "import seaborn as sns\n",
    "import matplotlib.pyplot as plt\n",
    "import numpy as np"
   ]
  },
  {
   "cell_type": "code",
   "execution_count": 2,
   "id": "8505a746",
   "metadata": {},
   "outputs": [
    {
     "data": {
      "text/html": [
       "<svg  width=\"440\" height=\"55\"><rect x=\"0\" y=\"0\" width=\"55\" height=\"55\" style=\"fill:#66c2a5;stroke-width:2;stroke:rgb(255,255,255)\"/><rect x=\"55\" y=\"0\" width=\"55\" height=\"55\" style=\"fill:#fc8d62;stroke-width:2;stroke:rgb(255,255,255)\"/><rect x=\"110\" y=\"0\" width=\"55\" height=\"55\" style=\"fill:#8da0cb;stroke-width:2;stroke:rgb(255,255,255)\"/><rect x=\"165\" y=\"0\" width=\"55\" height=\"55\" style=\"fill:#e78ac3;stroke-width:2;stroke:rgb(255,255,255)\"/><rect x=\"220\" y=\"0\" width=\"55\" height=\"55\" style=\"fill:#a6d854;stroke-width:2;stroke:rgb(255,255,255)\"/><rect x=\"275\" y=\"0\" width=\"55\" height=\"55\" style=\"fill:#ffd92f;stroke-width:2;stroke:rgb(255,255,255)\"/><rect x=\"330\" y=\"0\" width=\"55\" height=\"55\" style=\"fill:#e5c494;stroke-width:2;stroke:rgb(255,255,255)\"/><rect x=\"385\" y=\"0\" width=\"55\" height=\"55\" style=\"fill:#b3b3b3;stroke-width:2;stroke:rgb(255,255,255)\"/></svg>"
      ],
      "text/plain": [
       "[(0.4, 0.7607843137254902, 0.6470588235294118),\n",
       " (0.9882352941176471, 0.5529411764705883, 0.3843137254901961),\n",
       " (0.5529411764705883, 0.6274509803921569, 0.796078431372549),\n",
       " (0.9058823529411765, 0.5411764705882353, 0.7647058823529411),\n",
       " (0.6509803921568628, 0.8470588235294118, 0.32941176470588235),\n",
       " (1.0, 0.8509803921568627, 0.1843137254901961),\n",
       " (0.8980392156862745, 0.7686274509803922, 0.5803921568627451),\n",
       " (0.7019607843137254, 0.7019607843137254, 0.7019607843137254)]"
      ]
     },
     "execution_count": 2,
     "metadata": {},
     "output_type": "execute_result"
    }
   ],
   "source": [
    "sns.set_style(\"whitegrid\")\n",
    "sns.color_palette(\"Set2\")"
   ]
  },
  {
   "cell_type": "markdown",
   "id": "af03c077",
   "metadata": {},
   "source": [
    "# Experiment 2"
   ]
  },
  {
   "cell_type": "code",
   "execution_count": 3,
   "id": "e3ddfb7f",
   "metadata": {},
   "outputs": [
    {
     "name": "stdout",
     "output_type": "stream",
     "text": [
      "Num Results: 300\n"
     ]
    }
   ],
   "source": [
    "fold_list = glob('results/*_pot5_onion5_dish5_*')\n",
    "print('Num Results:', len(fold_list)) \n",
    "\n",
    "data = {\"Params\": [], \"Seed\": [], \"Fitness\": [], \"Type\": [], \"Count\":[]}\n",
    "\n",
    "for directory in fold_list:\n",
    "    with open(os.path.join(directory, 'parameters.json')) as f:\n",
    "        obj = json.load(f)\n",
    "        seed = obj['seed']\n",
    "        params = '$C$=' + str(obj['room_count'])+ \\\n",
    "                 ' $B_2$='+ str(obj['pot_count']) + '\\n' + \\\n",
    "                 '$B_3$='+ str(obj['dish_count'])  + \\\n",
    "                 ' $B_4$='+ str(obj['onion_count'])\n",
    "\n",
    "\n",
    "        \n",
    "    with open(os.path.join(directory, 'best_chromosome.json')) as f:\n",
    "        obj = json.load(f)\n",
    "\n",
    "        data['Seed'].append(seed)\n",
    "        data['Params'].append(params)\n",
    "        data['Fitness'].append(obj['fitness'])        \n",
    "        data['Type'].append('Rooms')        \n",
    "        data['Count'].append(obj['room_count'])\n",
    "\n",
    "        \n",
    "        data['Seed'].append(seed)\n",
    "        data['Params'].append(params)\n",
    "        data['Fitness'].append(obj['fitness'])  \n",
    "        data['Type'].append('Pot Block')\n",
    "        data['Count'].append(obj['block_2'])\n",
    "        \n",
    "        data['Seed'].append(seed)\n",
    "        data['Params'].append(params)\n",
    "        data['Fitness'].append(obj['fitness'])  \n",
    "        data['Type'].append('Dish Block')\n",
    "        data['Count'].append(obj['block_3'])\n",
    "        \n",
    "        data['Seed'].append(seed)\n",
    "        data['Params'].append(params)\n",
    "        data['Fitness'].append(obj['fitness'])  \n",
    "        data['Type'].append('Onion Block')\n",
    "        data['Count'].append(obj['block_4'])\n",
    "        "
   ]
  },
  {
   "cell_type": "code",
   "execution_count": 4,
   "id": "4d4fccc6",
   "metadata": {
    "scrolled": true
   },
   "outputs": [
    {
     "data": {
      "text/html": [
       "<div>\n",
       "<style scoped>\n",
       "    .dataframe tbody tr th:only-of-type {\n",
       "        vertical-align: middle;\n",
       "    }\n",
       "\n",
       "    .dataframe tbody tr th {\n",
       "        vertical-align: top;\n",
       "    }\n",
       "\n",
       "    .dataframe thead th {\n",
       "        text-align: right;\n",
       "    }\n",
       "</style>\n",
       "<table border=\"1\" class=\"dataframe\">\n",
       "  <thead>\n",
       "    <tr style=\"text-align: right;\">\n",
       "      <th></th>\n",
       "      <th>Params</th>\n",
       "      <th>Seed</th>\n",
       "      <th>Fitness</th>\n",
       "      <th>Type</th>\n",
       "      <th>Count</th>\n",
       "      <th>TypeOrder</th>\n",
       "    </tr>\n",
       "  </thead>\n",
       "  <tbody>\n",
       "    <tr>\n",
       "      <th>104</th>\n",
       "      <td>$C$=1 $B_2$=5\\n$B_3$=5 $B_4$=5</td>\n",
       "      <td>60</td>\n",
       "      <td>-1.00</td>\n",
       "      <td>Rooms</td>\n",
       "      <td>1</td>\n",
       "      <td>0</td>\n",
       "    </tr>\n",
       "    <tr>\n",
       "      <th>108</th>\n",
       "      <td>$C$=1 $B_2$=5\\n$B_3$=5 $B_4$=5</td>\n",
       "      <td>94</td>\n",
       "      <td>-1.00</td>\n",
       "      <td>Rooms</td>\n",
       "      <td>1</td>\n",
       "      <td>0</td>\n",
       "    </tr>\n",
       "    <tr>\n",
       "      <th>120</th>\n",
       "      <td>$C$=1 $B_2$=5\\n$B_3$=5 $B_4$=5</td>\n",
       "      <td>58</td>\n",
       "      <td>-1.00</td>\n",
       "      <td>Rooms</td>\n",
       "      <td>1</td>\n",
       "      <td>0</td>\n",
       "    </tr>\n",
       "    <tr>\n",
       "      <th>132</th>\n",
       "      <td>$C$=1 $B_2$=5\\n$B_3$=5 $B_4$=5</td>\n",
       "      <td>93</td>\n",
       "      <td>-1.00</td>\n",
       "      <td>Rooms</td>\n",
       "      <td>1</td>\n",
       "      <td>0</td>\n",
       "    </tr>\n",
       "    <tr>\n",
       "      <th>136</th>\n",
       "      <td>$C$=1 $B_2$=5\\n$B_3$=5 $B_4$=5</td>\n",
       "      <td>67</td>\n",
       "      <td>-1.00</td>\n",
       "      <td>Rooms</td>\n",
       "      <td>1</td>\n",
       "      <td>0</td>\n",
       "    </tr>\n",
       "    <tr>\n",
       "      <th>...</th>\n",
       "      <td>...</td>\n",
       "      <td>...</td>\n",
       "      <td>...</td>\n",
       "      <td>...</td>\n",
       "      <td>...</td>\n",
       "      <td>...</td>\n",
       "    </tr>\n",
       "    <tr>\n",
       "      <th>1183</th>\n",
       "      <td>$C$=3 $B_2$=5\\n$B_3$=5 $B_4$=5</td>\n",
       "      <td>8</td>\n",
       "      <td>-0.05</td>\n",
       "      <td>Onion Block</td>\n",
       "      <td>5</td>\n",
       "      <td>3</td>\n",
       "    </tr>\n",
       "    <tr>\n",
       "      <th>1187</th>\n",
       "      <td>$C$=3 $B_2$=5\\n$B_3$=5 $B_4$=5</td>\n",
       "      <td>34</td>\n",
       "      <td>-0.25</td>\n",
       "      <td>Onion Block</td>\n",
       "      <td>6</td>\n",
       "      <td>3</td>\n",
       "    </tr>\n",
       "    <tr>\n",
       "      <th>1191</th>\n",
       "      <td>$C$=3 $B_2$=5\\n$B_3$=5 $B_4$=5</td>\n",
       "      <td>33</td>\n",
       "      <td>0.00</td>\n",
       "      <td>Onion Block</td>\n",
       "      <td>5</td>\n",
       "      <td>3</td>\n",
       "    </tr>\n",
       "    <tr>\n",
       "      <th>1195</th>\n",
       "      <td>$C$=3 $B_2$=5\\n$B_3$=5 $B_4$=5</td>\n",
       "      <td>6</td>\n",
       "      <td>0.00</td>\n",
       "      <td>Onion Block</td>\n",
       "      <td>5</td>\n",
       "      <td>3</td>\n",
       "    </tr>\n",
       "    <tr>\n",
       "      <th>1199</th>\n",
       "      <td>$C$=3 $B_2$=5\\n$B_3$=5 $B_4$=5</td>\n",
       "      <td>1</td>\n",
       "      <td>-0.50</td>\n",
       "      <td>Onion Block</td>\n",
       "      <td>5</td>\n",
       "      <td>3</td>\n",
       "    </tr>\n",
       "  </tbody>\n",
       "</table>\n",
       "<p>1200 rows × 6 columns</p>\n",
       "</div>"
      ],
      "text/plain": [
       "                              Params  Seed  Fitness         Type  Count  \\\n",
       "104   $C$=1 $B_2$=5\\n$B_3$=5 $B_4$=5    60    -1.00        Rooms      1   \n",
       "108   $C$=1 $B_2$=5\\n$B_3$=5 $B_4$=5    94    -1.00        Rooms      1   \n",
       "120   $C$=1 $B_2$=5\\n$B_3$=5 $B_4$=5    58    -1.00        Rooms      1   \n",
       "132   $C$=1 $B_2$=5\\n$B_3$=5 $B_4$=5    93    -1.00        Rooms      1   \n",
       "136   $C$=1 $B_2$=5\\n$B_3$=5 $B_4$=5    67    -1.00        Rooms      1   \n",
       "...                              ...   ...      ...          ...    ...   \n",
       "1183  $C$=3 $B_2$=5\\n$B_3$=5 $B_4$=5     8    -0.05  Onion Block      5   \n",
       "1187  $C$=3 $B_2$=5\\n$B_3$=5 $B_4$=5    34    -0.25  Onion Block      6   \n",
       "1191  $C$=3 $B_2$=5\\n$B_3$=5 $B_4$=5    33     0.00  Onion Block      5   \n",
       "1195  $C$=3 $B_2$=5\\n$B_3$=5 $B_4$=5     6     0.00  Onion Block      5   \n",
       "1199  $C$=3 $B_2$=5\\n$B_3$=5 $B_4$=5     1    -0.50  Onion Block      5   \n",
       "\n",
       "      TypeOrder  \n",
       "104           0  \n",
       "108           0  \n",
       "120           0  \n",
       "132           0  \n",
       "136           0  \n",
       "...         ...  \n",
       "1183          3  \n",
       "1187          3  \n",
       "1191          3  \n",
       "1195          3  \n",
       "1199          3  \n",
       "\n",
       "[1200 rows x 6 columns]"
      ]
     },
     "execution_count": 4,
     "metadata": {},
     "output_type": "execute_result"
    }
   ],
   "source": [
    "def get_order(x):\n",
    "    order_dict = {'Rooms': 0, 'Pot Block': 1, 'Onion Block': 3, 'Dish Block': 2}\n",
    "    return order_dict[x]\n",
    "df = pd.DataFrame(data)\n",
    "\n",
    "order_keys = []\n",
    "for idx, row in df.iterrows():\n",
    "    order_keys.append(get_order(row.Type))\n",
    "df['TypeOrder'] = order_keys\n",
    "\n",
    "df = df.sort_values(by=['Params', 'TypeOrder'])\n",
    "df"
   ]
  },
  {
   "cell_type": "code",
   "execution_count": 28,
   "id": "ddbea2fa",
   "metadata": {},
   "outputs": [
    {
     "name": "stdout",
     "output_type": "stream",
     "text": [
      "['', '', '', '//', '//', '//', '//', '//', '//', '//', '//', '//']\n"
     ]
    },
    {
     "data": {
      "image/png": "[encoded data removed]",
      "text/plain": [
       "<Figure size 810.125x288 with 1 Axes>"
      ]
     },
     "metadata": {},
     "output_type": "display_data"
    },
    {
     "data": {
      "text/plain": [
       "<Figure size 432x288 with 0 Axes>"
      ]
     },
     "metadata": {},
     "output_type": "display_data"
    }
   ],
   "source": [
    "g = sns.catplot(\n",
    "    data=df, kind=\"bar\",\n",
    "    x=\"Params\", y=\"Count\", hue=\"Type\",\n",
    "    ci=\"sd\", alpha=.8, height=4, aspect=2.5,\n",
    "    legend_out=True\n",
    ")\n",
    "g.despine(left=True)\n",
    "g.set_axis_labels(\"Parameters\", \"Count\")\n",
    "\n",
    "# g.add_legend(label_order=['Rooms', 'Pot Block', 'Onion Block', 'Dish Block'], loc='upper left')\n",
    "plt.ylim(0, 9)\n",
    "plt.tight_layout()\n",
    "sns.despine(fig=None, ax=None, top=False, right=False, left=False, bottom=False, offset=None, trim=False)\n",
    "\n",
    "hatches = [''] * 3 + ['//'] * 9\n",
    "print(hatches)\n",
    "# Loop over the bars\n",
    "for i,thisbar in enumerate(g.ax.patches):\n",
    "    thisbar.set_hatch(hatches[i])\n",
    "\n",
    "g.map(plt.axhline, y=1,xmin=0.03, xmax=0.105, ls='--', c='r')\n",
    "g.map(plt.axhline, y=5,xmin=0.100, xmax=0.305, ls='--', c='r')\n",
    "\n",
    "g.map(plt.axhline, y=2,xmin=0.365, xmax=0.438, ls='--', c='r')\n",
    "g.map(plt.axhline, y=5,xmin=0.100+0.330, xmax=0.305+0.330, ls='--', c='r')    \n",
    "\n",
    "\n",
    "g.map(plt.axhline, y=3,xmin=0.03+0.665, xmax=0.105+0.665, ls='--', c='r')\n",
    "g.map(plt.axhline, y=5,xmin=0.100+0.665, xmax=0.305+0.665, ls='--', c='r')    \n",
    "\n",
    "plt.savefig('room.svg', dpi=300)\n",
    "plt.show()\n",
    "\n",
    "plt.clf()"
   ]
  },
  {
   "cell_type": "code",
   "execution_count": null,
   "id": "72ee2445",
   "metadata": {},
   "outputs": [],
   "source": []
  },
  {
   "cell_type": "code",
   "execution_count": null,
   "id": "3d9bcff5",
   "metadata": {},
   "outputs": [],
   "source": []
  },
  {
   "cell_type": "code",
   "execution_count": null,
   "id": "2ca41784",
   "metadata": {},
   "outputs": [],
   "source": []
  },
  {
   "cell_type": "code",
   "execution_count": null,
   "id": "7bce68c3",
   "metadata": {},
   "outputs": [],
   "source": []
  },
  {
   "cell_type": "code",
   "execution_count": null,
   "id": "b40841d2",
   "metadata": {},
   "outputs": [],
   "source": []
  }
 ],
 "metadata": {
  "kernelspec": {
   "display_name": "Python 3 (ipykernel)",
   "language": "python",
   "name": "python3"
  },
  "language_info": {
   "codemirror_mode": {
    "name": "ipython",
    "version": 3
   },
   "file_extension": ".py",
   "mimetype": "text/x-python",
   "name": "python",
   "nbconvert_exporter": "python",
   "pygments_lexer": "ipython3",
   "version": "3.8.2"
  }
 },
 "nbformat": 4,
 "nbformat_minor": 5
}
